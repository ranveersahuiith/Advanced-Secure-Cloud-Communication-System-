{
  "cells": [
    {
      "cell_type": "markdown",
      "metadata": {
        "id": "kBdl9ng1iggr"
      },
      "source": [
        "# **Project Code for Software Development @EXPOSYS DATA LAB**\n"
      ]
    },
    {
      "cell_type": "markdown",
      "metadata": {
        "id": "scio4h6kiPNf"
      },
      "source": [
        "**Name: Ranveer Sahu**\n",
        "\n",
        "**Email: es21btech11025@iith.ac.in**\n",
        "\n",
        "**Domain: Software Development**\n"
      ]
    },
    {
      "cell_type": "markdown",
      "metadata": {
        "id": "iXbJc6O4-Zxo"
      },
      "source": [
        "**Software Development**\n",
        "\n",
        "DESCRIPTION\n",
        "\n",
        "Let us consider a case where the user sends a text or file from his phone to his\n",
        "friend. The risk of the data being accessed by a third party is high when the data enters the cloud platform. Hence a new method to secure the messages/file is to be done either by building a new algorithm or by modifying the existing one which can give more security and consume less time. The identity of the user\n",
        "must also be verified by using the authentication, verification and validation\n",
        "methodologies.\n",
        "\n",
        "Tasks:\n",
        "1. Try to build or change an existing algorithm to secure message send by the user\n",
        "based on efficiency.\n",
        "2. Confirm the identity of the user by entity authentication using verification and\n",
        "validation.\n",
        "Contestants should use python and ML to perform this Task."
      ]
    },
    {
      "cell_type": "markdown",
      "metadata": {
        "id": "zApgFKbO-pwJ"
      },
      "source": [
        "  We are using the AES algorithm for this problem and then modify the algorithm\n",
        "  "
      ]
    },
    {
      "cell_type": "code",
      "execution_count": 10,
      "metadata": {
        "colab": {
          "base_uri": "https://localhost:8080/"
        },
        "id": "GXb2VGRQCziJ",
        "outputId": "e62bb6d9-3926-431f-c967-c789af4559a4"
      },
      "outputs": [
        {
          "name": "stdout",
          "output_type": "stream",
          "text": [
            "Requirement already satisfied: pycryptodome in /usr/local/lib/python3.10/dist-packages (3.20.0)\n",
            "Requirement already satisfied: pandas in /usr/local/lib/python3.10/dist-packages (2.0.3)\n",
            "Requirement already satisfied: scikit-learn in /usr/local/lib/python3.10/dist-packages (1.2.2)\n",
            "Requirement already satisfied: tensorflow in /usr/local/lib/python3.10/dist-packages (2.15.0)\n",
            "Requirement already satisfied: keras in /usr/local/lib/python3.10/dist-packages (2.15.0)\n",
            "Requirement already satisfied: python-dateutil>=2.8.2 in /usr/local/lib/python3.10/dist-packages (from pandas) (2.8.2)\n",
            "Requirement already satisfied: pytz>=2020.1 in /usr/local/lib/python3.10/dist-packages (from pandas) (2023.4)\n",
            "Requirement already satisfied: tzdata>=2022.1 in /usr/local/lib/python3.10/dist-packages (from pandas) (2024.1)\n",
            "Requirement already satisfied: numpy>=1.21.0 in /usr/local/lib/python3.10/dist-packages (from pandas) (1.25.2)\n",
            "Requirement already satisfied: scipy>=1.3.2 in /usr/local/lib/python3.10/dist-packages (from scikit-learn) (1.11.4)\n",
            "Requirement already satisfied: joblib>=1.1.1 in /usr/local/lib/python3.10/dist-packages (from scikit-learn) (1.4.2)\n",
            "Requirement already satisfied: threadpoolctl>=2.0.0 in /usr/local/lib/python3.10/dist-packages (from scikit-learn) (3.5.0)\n",
            "Requirement already satisfied: absl-py>=1.0.0 in /usr/local/lib/python3.10/dist-packages (from tensorflow) (1.4.0)\n",
            "Requirement already satisfied: astunparse>=1.6.0 in /usr/local/lib/python3.10/dist-packages (from tensorflow) (1.6.3)\n",
            "Requirement already satisfied: flatbuffers>=23.5.26 in /usr/local/lib/python3.10/dist-packages (from tensorflow) (24.3.25)\n",
            "Requirement already satisfied: gast!=0.5.0,!=0.5.1,!=0.5.2,>=0.2.1 in /usr/local/lib/python3.10/dist-packages (from tensorflow) (0.5.4)\n",
            "Requirement already satisfied: google-pasta>=0.1.1 in /usr/local/lib/python3.10/dist-packages (from tensorflow) (0.2.0)\n",
            "Requirement already satisfied: h5py>=2.9.0 in /usr/local/lib/python3.10/dist-packages (from tensorflow) (3.9.0)\n",
            "Requirement already satisfied: libclang>=13.0.0 in /usr/local/lib/python3.10/dist-packages (from tensorflow) (18.1.1)\n",
            "Requirement already satisfied: ml-dtypes~=0.2.0 in /usr/local/lib/python3.10/dist-packages (from tensorflow) (0.2.0)\n",
            "Requirement already satisfied: opt-einsum>=2.3.2 in /usr/local/lib/python3.10/dist-packages (from tensorflow) (3.3.0)\n",
            "Requirement already satisfied: packaging in /usr/local/lib/python3.10/dist-packages (from tensorflow) (24.1)\n",
            "Requirement already satisfied: protobuf!=4.21.0,!=4.21.1,!=4.21.2,!=4.21.3,!=4.21.4,!=4.21.5,<5.0.0dev,>=3.20.3 in /usr/local/lib/python3.10/dist-packages (from tensorflow) (3.20.3)\n",
            "Requirement already satisfied: setuptools in /usr/local/lib/python3.10/dist-packages (from tensorflow) (67.7.2)\n",
            "Requirement already satisfied: six>=1.12.0 in /usr/local/lib/python3.10/dist-packages (from tensorflow) (1.16.0)\n",
            "Requirement already satisfied: termcolor>=1.1.0 in /usr/local/lib/python3.10/dist-packages (from tensorflow) (2.4.0)\n",
            "Requirement already satisfied: typing-extensions>=3.6.6 in /usr/local/lib/python3.10/dist-packages (from tensorflow) (4.12.2)\n",
            "Requirement already satisfied: wrapt<1.15,>=1.11.0 in /usr/local/lib/python3.10/dist-packages (from tensorflow) (1.14.1)\n",
            "Requirement already satisfied: tensorflow-io-gcs-filesystem>=0.23.1 in /usr/local/lib/python3.10/dist-packages (from tensorflow) (0.37.0)\n",
            "Requirement already satisfied: grpcio<2.0,>=1.24.3 in /usr/local/lib/python3.10/dist-packages (from tensorflow) (1.64.1)\n",
            "Requirement already satisfied: tensorboard<2.16,>=2.15 in /usr/local/lib/python3.10/dist-packages (from tensorflow) (2.15.2)\n",
            "Requirement already satisfied: tensorflow-estimator<2.16,>=2.15.0 in /usr/local/lib/python3.10/dist-packages (from tensorflow) (2.15.0)\n",
            "Requirement already satisfied: wheel<1.0,>=0.23.0 in /usr/local/lib/python3.10/dist-packages (from astunparse>=1.6.0->tensorflow) (0.43.0)\n",
            "Requirement already satisfied: google-auth<3,>=1.6.3 in /usr/local/lib/python3.10/dist-packages (from tensorboard<2.16,>=2.15->tensorflow) (2.27.0)\n",
            "Requirement already satisfied: google-auth-oauthlib<2,>=0.5 in /usr/local/lib/python3.10/dist-packages (from tensorboard<2.16,>=2.15->tensorflow) (1.2.0)\n",
            "Requirement already satisfied: markdown>=2.6.8 in /usr/local/lib/python3.10/dist-packages (from tensorboard<2.16,>=2.15->tensorflow) (3.6)\n",
            "Requirement already satisfied: requests<3,>=2.21.0 in /usr/local/lib/python3.10/dist-packages (from tensorboard<2.16,>=2.15->tensorflow) (2.31.0)\n",
            "Requirement already satisfied: tensorboard-data-server<0.8.0,>=0.7.0 in /usr/local/lib/python3.10/dist-packages (from tensorboard<2.16,>=2.15->tensorflow) (0.7.2)\n",
            "Requirement already satisfied: werkzeug>=1.0.1 in /usr/local/lib/python3.10/dist-packages (from tensorboard<2.16,>=2.15->tensorflow) (3.0.3)\n",
            "Requirement already satisfied: cachetools<6.0,>=2.0.0 in /usr/local/lib/python3.10/dist-packages (from google-auth<3,>=1.6.3->tensorboard<2.16,>=2.15->tensorflow) (5.3.3)\n",
            "Requirement already satisfied: pyasn1-modules>=0.2.1 in /usr/local/lib/python3.10/dist-packages (from google-auth<3,>=1.6.3->tensorboard<2.16,>=2.15->tensorflow) (0.4.0)\n",
            "Requirement already satisfied: rsa<5,>=3.1.4 in /usr/local/lib/python3.10/dist-packages (from google-auth<3,>=1.6.3->tensorboard<2.16,>=2.15->tensorflow) (4.9)\n",
            "Requirement already satisfied: requests-oauthlib>=0.7.0 in /usr/local/lib/python3.10/dist-packages (from google-auth-oauthlib<2,>=0.5->tensorboard<2.16,>=2.15->tensorflow) (1.3.1)\n",
            "Requirement already satisfied: charset-normalizer<4,>=2 in /usr/local/lib/python3.10/dist-packages (from requests<3,>=2.21.0->tensorboard<2.16,>=2.15->tensorflow) (3.3.2)\n",
            "Requirement already satisfied: idna<4,>=2.5 in /usr/local/lib/python3.10/dist-packages (from requests<3,>=2.21.0->tensorboard<2.16,>=2.15->tensorflow) (3.7)\n",
            "Requirement already satisfied: urllib3<3,>=1.21.1 in /usr/local/lib/python3.10/dist-packages (from requests<3,>=2.21.0->tensorboard<2.16,>=2.15->tensorflow) (2.0.7)\n",
            "Requirement already satisfied: certifi>=2017.4.17 in /usr/local/lib/python3.10/dist-packages (from requests<3,>=2.21.0->tensorboard<2.16,>=2.15->tensorflow) (2024.6.2)\n",
            "Requirement already satisfied: MarkupSafe>=2.1.1 in /usr/local/lib/python3.10/dist-packages (from werkzeug>=1.0.1->tensorboard<2.16,>=2.15->tensorflow) (2.1.5)\n",
            "Requirement already satisfied: pyasn1<0.7.0,>=0.4.6 in /usr/local/lib/python3.10/dist-packages (from pyasn1-modules>=0.2.1->google-auth<3,>=1.6.3->tensorboard<2.16,>=2.15->tensorflow) (0.6.0)\n",
            "Requirement already satisfied: oauthlib>=3.0.0 in /usr/local/lib/python3.10/dist-packages (from requests-oauthlib>=0.7.0->google-auth-oauthlib<2,>=0.5->tensorboard<2.16,>=2.15->tensorflow) (3.2.2)\n"
          ]
        }
      ],
      "source": [
        "pip install pycryptodome pandas scikit-learn tensorflow keras\n"
      ]
    },
    {
      "cell_type": "markdown",
      "metadata": {
        "id": "P0wXXn644b7T"
      },
      "source": [
        "**step 1**. User Registration\n",
        "\n",
        "**step 2**. User Authentication Class: Validates the user's credentials.\n",
        "\n",
        "**step 3**. OTP Verification Class: Generates and verifies the OTP.\n",
        "\n",
        "**step 4**. Email Sending Function: Sends the OTP to the user's email.\n",
        "\n",
        "**step 5**. Main Function: Integrates user authentication, OTP verification, and input validation.\n",
        "\n",
        "**step 6** if user is grabted to access, then take input messeges or files and apply AES on it."
      ]
    },
    {
      "cell_type": "markdown",
      "metadata": {
        "id": "OoHuaORbncp4"
      },
      "source": [
        "All imports"
      ]
    },
    {
      "cell_type": "code",
      "execution_count": 11,
      "metadata": {
        "id": "o-5Me3Ywme3v"
      },
      "outputs": [],
      "source": [
        "import hashlib\n",
        "import random\n",
        "from time import time\n",
        "from getpass import getpass\n",
        "import os\n",
        "from Crypto.Cipher import AES\n",
        "from Crypto.Protocol.KDF import PBKDF2\n",
        "from Crypto.Random import get_random_bytes\n",
        "import base64\n",
        "import smtplib\n",
        "from email.mime.text import MIMEText"
      ]
    },
    {
      "cell_type": "markdown",
      "metadata": {
        "id": "9kQDnjCyngx6"
      },
      "source": [
        "**UserRegistration**"
      ]
    },
    {
      "cell_type": "code",
      "execution_count": 12,
      "metadata": {
        "id": "Gfze13Z2miNI"
      },
      "outputs": [],
      "source": [
        "class UserRegistration:\n",
        "    def __init__(self):\n",
        "        self.users = {}\n",
        "\n",
        "    def register(self, username, password, email):\n",
        "        if username in self.users:\n",
        "            return False, \"Username already exists.\"\n",
        "        hashed_password = hashlib.sha256(password.encode()).hexdigest()\n",
        "        self.users[username] = {'password': hashed_password, 'email': email}\n",
        "        return True, \"User registered successfully.\"\n",
        "\n",
        "    def get_users(self):\n",
        "        return self.users\n"
      ]
    },
    {
      "cell_type": "markdown",
      "metadata": {
        "id": "F4DqTxv0nlrE"
      },
      "source": [
        "**UserAuthentication**"
      ]
    },
    {
      "cell_type": "code",
      "execution_count": 13,
      "metadata": {
        "id": "tAhkO8IVmkaZ"
      },
      "outputs": [],
      "source": [
        "class UserAuthentication:\n",
        "    def __init__(self, users):\n",
        "        self.users = users\n",
        "\n",
        "    def authenticate(self, username, password):\n",
        "        hashed_password = hashlib.sha256(password.encode()).hexdigest()\n",
        "        user = self.users.get(username)\n",
        "        if user and user['password'] == hashed_password:\n",
        "            return True\n",
        "        return False\n"
      ]
    },
    {
      "cell_type": "markdown",
      "metadata": {
        "id": "o2AewLt_nsV2"
      },
      "source": [
        "**OTPVerification**"
      ]
    },
    {
      "cell_type": "code",
      "execution_count": 14,
      "metadata": {
        "id": "RX7Nd_o0msbi"
      },
      "outputs": [],
      "source": [
        "class OTPVerification:\n",
        "    def __init__(self):\n",
        "        self.otp = None\n",
        "        self.expiration_time = None\n",
        "\n",
        "    def generate_otp(self):\n",
        "        self.otp = random.randint(100000, 999999)\n",
        "        self.expiration_time = time() + 300  # OTP valid for 5 minutes\n",
        "        return self.otp\n",
        "\n",
        "    def verify_otp(self, entered_otp):\n",
        "        if time() > self.expiration_time:\n",
        "            return False\n",
        "        return str(self.otp) == str(entered_otp)"
      ]
    },
    {
      "cell_type": "markdown",
      "metadata": {
        "id": "KXtcqSfLnvMJ"
      },
      "source": [
        "**Email_send**"
      ]
    },
    {
      "cell_type": "code",
      "execution_count": 15,
      "metadata": {
        "colab": {
          "base_uri": "https://localhost:8080/"
        },
        "id": "65R0VM-Qmy9f",
        "outputId": "f9883c10-1ff7-46bc-e6ea-fa96ac6b08d9"
      },
      "outputs": [
        {
          "name": "stdout",
          "output_type": "stream",
          "text": [
            "Preparing to send email...\n",
            "From: t77044413@gmail.com\n",
            "To: your_recipient@example.com\n",
            "Subject: Your OTP Code\n",
            "Body: Your OTP code is 123456. It is valid for 5 minutes.\n",
            "Connecting to SMTP server...\n",
            "Logging in to SMTP server...\n",
            "Failed to send email: (535, b'5.7.8 Username and Password not accepted. For more information, go to\\n5.7.8  https://support.google.com/mail/?p=BadCredentials 6a1803df08f44-6b5404a8e29sm26869166d6.52 - gsmtp')\n"
          ]
        }
      ],
      "source": [
        "\n",
        "import smtplib\n",
        "from email.mime.text import MIMEText\n",
        "import ssl\n",
        "\n",
        "def send_email(recipient_email, otp):\n",
        "    sender_email = \"t77044413@gmail.com\"  # Replace with your email\n",
        "    sender_password = \"asdf@1230\"  # Replace with your email password\n",
        "    smtp_server = \"smtp.gmail.com\"\n",
        "    smtp_port = 587\n",
        "\n",
        "    subject = \"Your OTP Code\"\n",
        "    body = f\"Your OTP code is {otp}. It is valid for 5 minutes.\"\n",
        "\n",
        "    msg = MIMEText(body)\n",
        "    msg[\"Subject\"] = subject\n",
        "    msg[\"From\"] = sender_email\n",
        "    msg[\"To\"] = recipient_email\n",
        "\n",
        "    print(\"Preparing to send email...\")\n",
        "    print(f\"From: {sender_email}\")\n",
        "    print(f\"To: {recipient_email}\")\n",
        "    print(f\"Subject: {subject}\")\n",
        "    print(f\"Body: {body}\")\n",
        "\n",
        "    try:\n",
        "        context = ssl.create_default_context()\n",
        "        with smtplib.SMTP(smtp_server, smtp_port) as server:\n",
        "            print(\"Connecting to SMTP server...\")\n",
        "            server.starttls(context=context)\n",
        "            print(\"Logging in to SMTP server...\")\n",
        "            server.login(sender_email, sender_password)\n",
        "            print(\"Sending email...\")\n",
        "            server.sendmail(sender_email, recipient_email, msg.as_string())\n",
        "        print(\"Email sent successfully.\")\n",
        "    except smtplib.SMTPException as e:\n",
        "        print(f\"Failed to send email: {e}\")\n",
        "\n",
        "# Example to test the email sending function\n",
        "if __name__ == \"__main__\":\n",
        "    recipient_email = \"your_recipient@example.com\"  # Replace with your recipient's email\n",
        "    otp = 123456  # Replace with an OTP generated by your application\n",
        "    send_email(recipient_email, otp)\n"
      ]
    },
    {
      "cell_type": "markdown",
      "metadata": {
        "id": "9g2eUGGBnzcu"
      },
      "source": [
        "**AES_algorithm**"
      ]
    },
    {
      "cell_type": "code",
      "execution_count": 16,
      "metadata": {
        "id": "dWQsQewKnHXr"
      },
      "outputs": [],
      "source": [
        "class SecureEncryption:\n",
        "    def __init__(self, passphrase):\n",
        "        self.passphrase = passphrase\n",
        "\n",
        "    def encrypt(self, data):\n",
        "        salt = get_random_bytes(16)\n",
        "        key = PBKDF2(self.passphrase, salt, dkLen=32, count=1000000)\n",
        "        cipher = AES.new(key, AES.MODE_EAX)\n",
        "        nonce = cipher.nonce\n",
        "        ciphertext, tag = cipher.encrypt_and_digest(data.encode('utf-8'))\n",
        "        return base64.b64encode(salt + nonce + tag + ciphertext).decode('utf-8')\n",
        "\n",
        "    def decrypt(self, encrypted_data):\n",
        "        encrypted_data = base64.b64decode(encrypted_data.encode('utf-8'))\n",
        "        salt = encrypted_data[:16]\n",
        "        nonce = encrypted_data[16:32]\n",
        "        tag = encrypted_data[32:48]\n",
        "        ciphertext = encrypted_data[48:]\n",
        "        key = PBKDF2(self.passphrase, salt, dkLen=32, count=1000000)\n",
        "        cipher = AES.new(key, AES.MODE_EAX, nonce=nonce)\n",
        "        return cipher.decrypt_and_verify(ciphertext, tag).decode('utf-8')"
      ]
    },
    {
      "cell_type": "markdown",
      "metadata": {
        "id": "n8L57NSqn578"
      },
      "source": [
        "**Get user input**"
      ]
    },
    {
      "cell_type": "code",
      "execution_count": 17,
      "metadata": {
        "id": "wwVn57ASnOIZ"
      },
      "outputs": [],
      "source": [
        "def get_user_input():\n",
        "    choice = input(\"Do you want to input a (1) message or (2) file? Enter 1 or 2: \")\n",
        "    if choice == '1':\n",
        "        message = input(\"Enter your message: \")\n",
        "        if not message:\n",
        "            print(\"Message cannot be empty.\")\n",
        "            return None\n",
        "        return message\n",
        "    elif choice == '2':\n",
        "        file_path = input(\"Enter the path to your file: \")\n",
        "        if not os.path.exists(file_path):\n",
        "            print(\"File does not exist.\")\n",
        "            return None\n",
        "        with open(file_path, 'r') as file:\n",
        "            content = file.read()\n",
        "            if not content:\n",
        "                print(\"File is empty.\")\n",
        "                return None\n",
        "            return content\n",
        "    else:\n",
        "        print(\"Invalid choice.\")\n",
        "        return None\n"
      ]
    },
    {
      "cell_type": "markdown",
      "metadata": {
        "id": "dxa09Kjen9DZ"
      },
      "source": [
        "**Main function**"
      ]
    },
    {
      "cell_type": "code",
      "execution_count": 19,
      "metadata": {
        "colab": {
          "base_uri": "https://localhost:8080/"
        },
        "id": "SarOpvfSlIK5",
        "outputId": "2889d41b-d455-46c4-fc2c-b863322abf95"
      },
      "outputs": [
        {
          "name": "stdout",
          "output_type": "stream",
          "text": [
            "1. Register\n",
            "2. Authenticate\n",
            "3. Exit\n",
            "Enter your choice: 1\n",
            "Enter username: ranveer_sahu\n",
            "Enter password: ··········\n",
            "Enter email: t77044413@gmail.com\n",
            "User registered successfully.\n",
            "1. Register\n",
            "2. Authenticate\n",
            "3. Exit\n",
            "Enter your choice: 2\n",
            "Username: ranveer_sahu\n",
            "Password: ··········\n",
            "User authenticated. Proceeding to OTP verification.\n",
            "Preparing to send email...\n",
            "From: t77044413@gmail.com\n",
            "To: t77044413@gmail.com\n",
            "Subject: Your OTP Code\n",
            "Body: Your OTP code is 671812. It is valid for 5 minutes.\n",
            "Connecting to SMTP server...\n",
            "Logging in to SMTP server...\n",
            "Failed to send email: (535, b'5.7.8 Username and Password not accepted. For more information, go to\\n5.7.8  https://support.google.com/mail/?p=BadCredentials 6a1803df08f44-6b51ef30eddsm45229006d6.86 - gsmtp')\n",
            "OTP has been sent to your email.\n",
            "Enter the OTP: 671812\n",
            "OTP verified. Access granted.\n",
            "Do you want to input a (1) message or (2) file? Enter 1 or 2: 1\n",
            "Enter your message: \"Hello Sir\"\"\n",
            "Enter your encryption passphrase: ··········\n",
            "Encrypted: +JFrCYRMhVuL+MSN+V5HbdSg7C84dwjUt6+OlCoRq58n6ei2ncVoVEcfqKN8t9U/CYX4QpOQIiojsvxQ\n",
            "Decrypted: \"Hello Sir\"\"\n",
            "1. Register\n",
            "2. Authenticate\n",
            "3. Exit\n",
            "Enter your choice: 3\n"
          ]
        }
      ],
      "source": [
        "\n",
        "def main_menu():\n",
        "    user_registration = UserRegistration()\n",
        "    user_emails = {}\n",
        "\n",
        "    while True:\n",
        "        print(\"1. Register\")\n",
        "        print(\"2. Authenticate\")\n",
        "        print(\"3. Exit\")\n",
        "        choice = input(\"Enter your choice: \")\n",
        "\n",
        "        if choice == '1':\n",
        "            username = input(\"Enter username: \")\n",
        "            password = getpass(\"Enter password: \")\n",
        "            email = input(\"Enter email: \")\n",
        "            success, message = user_registration.register(username, password, email)\n",
        "            if success:\n",
        "                user_emails[username] = email\n",
        "            print(message)\n",
        "\n",
        "        elif choice == '2':\n",
        "            users = user_registration.get_users()\n",
        "            if not users:\n",
        "                print(\"No users registered. Please register first.\")\n",
        "                continue\n",
        "\n",
        "            auth = UserAuthentication(users)\n",
        "            otp_verification = OTPVerification()\n",
        "\n",
        "            username = input(\"Username: \")\n",
        "            password = getpass(\"Password: \")\n",
        "\n",
        "            if auth.authenticate(username, password):\n",
        "                print(\"User authenticated. Proceeding to OTP verification.\")\n",
        "                otp = otp_verification.generate_otp()\n",
        "                send_email(user_emails[username], otp)\n",
        "                print(\"OTP has been sent to your email.\")\n",
        "                entered_otp = input(\"Enter the OTP: \")\n",
        "                if otp_verification.verify_otp(entered_otp):\n",
        "                    print(\"OTP verified. Access granted.\")\n",
        "\n",
        "                    user_input = get_user_input()\n",
        "                    if user_input:\n",
        "                        passphrase = getpass(\"Enter your encryption passphrase: \")\n",
        "                        secure_encryption = SecureEncryption(passphrase)\n",
        "                        encrypted_message = secure_encryption.encrypt(user_input)\n",
        "                        print(\"Encrypted:\", encrypted_message)\n",
        "                        decrypted_message = secure_encryption.decrypt(encrypted_message)\n",
        "                        print(\"Decrypted:\", decrypted_message)\n",
        "                    else:\n",
        "                        print(\"Invalid input. Exiting.\")\n",
        "                else:\n",
        "                    print(\"Invalid OTP or OTP has expired. Access denied.\")\n",
        "            else:\n",
        "                print(\"Invalid username or password. Access denied.\")\n",
        "\n",
        "        elif choice == '3':\n",
        "            break\n",
        "\n",
        "        else:\n",
        "            print(\"Invalid choice. Please try again.\")\n",
        "\n",
        "# Example usage\n",
        "main_menu()\n"
      ]
    },
    {
      "cell_type": "markdown",
      "metadata": {},
      "source": [
        "press 3 to terminate the process."
      ]
    }
  ],
  "metadata": {
    "colab": {
      "provenance": []
    },
    "kernelspec": {
      "display_name": "Python 3",
      "name": "python3"
    },
    "language_info": {
      "name": "python"
    }
  },
  "nbformat": 4,
  "nbformat_minor": 0
}
